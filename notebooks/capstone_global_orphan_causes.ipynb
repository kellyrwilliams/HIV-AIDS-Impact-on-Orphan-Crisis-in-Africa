{
 "cells": [
  {
   "cell_type": "code",
   "execution_count": 1,
   "metadata": {},
   "outputs": [],
   "source": [
    "import pandas as pd\n",
    "import matplotlib.pyplot as plt\n",
    "import datetime\n",
    "import numpy as np\n",
    "%matplotlib inline"
   ]
  },
  {
   "cell_type": "code",
   "execution_count": 2,
   "metadata": {},
   "outputs": [],
   "source": [
    "orphan_causes_csv = pd.read_csv('../data/Using/HIV_Orphans_2020.csv')"
   ]
  },
  {
   "cell_type": "code",
   "execution_count": 3,
   "metadata": {},
   "outputs": [
    {
     "data": {
      "text/html": [
       "<div>\n",
       "<style scoped>\n",
       "    .dataframe tbody tr th:only-of-type {\n",
       "        vertical-align: middle;\n",
       "    }\n",
       "\n",
       "    .dataframe tbody tr th {\n",
       "        vertical-align: top;\n",
       "    }\n",
       "\n",
       "    .dataframe thead th {\n",
       "        text-align: right;\n",
       "    }\n",
       "</style>\n",
       "<table border=\"1\" class=\"dataframe\">\n",
       "  <thead>\n",
       "    <tr style=\"text-align: right;\">\n",
       "      <th></th>\n",
       "      <th>Number of children aged 0-17 who have lost one or both parents, by cause, 1990-2019</th>\n",
       "      <th>Unnamed: 1</th>\n",
       "      <th>Unnamed: 2</th>\n",
       "      <th>Unnamed: 3</th>\n",
       "      <th>Unnamed: 4</th>\n",
       "      <th>Unnamed: 5</th>\n",
       "      <th>Unnamed: 6</th>\n",
       "      <th>Unnamed: 7</th>\n",
       "      <th>Unnamed: 8</th>\n",
       "      <th>Unnamed: 9</th>\n",
       "    </tr>\n",
       "  </thead>\n",
       "  <tbody>\n",
       "    <tr>\n",
       "      <th>0</th>\n",
       "      <td>ISO3</td>\n",
       "      <td>Type</td>\n",
       "      <td>Country/Region</td>\n",
       "      <td>UNICEF Region</td>\n",
       "      <td>Indicator</td>\n",
       "      <td>Data source</td>\n",
       "      <td>Year</td>\n",
       "      <td>Value</td>\n",
       "      <td>Lower</td>\n",
       "      <td>Upper</td>\n",
       "    </tr>\n",
       "    <tr>\n",
       "      <th>1</th>\n",
       "      <td>03M49WLD</td>\n",
       "      <td>Region</td>\n",
       "      <td>Global</td>\n",
       "      <td>NaN</td>\n",
       "      <td>Estimated number of children (aged 0-17) who h...</td>\n",
       "      <td>UNAIDS 2020 estimates</td>\n",
       "      <td>1990</td>\n",
       "      <td>147,800,000</td>\n",
       "      <td>143,500,000</td>\n",
       "      <td>152,900,000</td>\n",
       "    </tr>\n",
       "    <tr>\n",
       "      <th>2</th>\n",
       "      <td>03M49WLD</td>\n",
       "      <td>Region</td>\n",
       "      <td>Global</td>\n",
       "      <td>NaN</td>\n",
       "      <td>Estimated number of children (aged 0-17) who h...</td>\n",
       "      <td>UNAIDS 2020 estimates</td>\n",
       "      <td>1991</td>\n",
       "      <td>147,900,000</td>\n",
       "      <td>143,600,000</td>\n",
       "      <td>153,000,000</td>\n",
       "    </tr>\n",
       "    <tr>\n",
       "      <th>3</th>\n",
       "      <td>03M49WLD</td>\n",
       "      <td>Region</td>\n",
       "      <td>Global</td>\n",
       "      <td>NaN</td>\n",
       "      <td>Estimated number of children (aged 0-17) who h...</td>\n",
       "      <td>UNAIDS 2020 estimates</td>\n",
       "      <td>1992</td>\n",
       "      <td>148,300,000</td>\n",
       "      <td>144,000,000</td>\n",
       "      <td>153,400,000</td>\n",
       "    </tr>\n",
       "    <tr>\n",
       "      <th>4</th>\n",
       "      <td>03M49WLD</td>\n",
       "      <td>Region</td>\n",
       "      <td>Global</td>\n",
       "      <td>NaN</td>\n",
       "      <td>Estimated number of children (aged 0-17) who h...</td>\n",
       "      <td>UNAIDS 2020 estimates</td>\n",
       "      <td>1993</td>\n",
       "      <td>148,900,000</td>\n",
       "      <td>144,600,000</td>\n",
       "      <td>154,100,000</td>\n",
       "    </tr>\n",
       "  </tbody>\n",
       "</table>\n",
       "</div>"
      ],
      "text/plain": [
       "  Number of children aged 0-17 who have lost one or both parents, by cause, 1990-2019  \\\n",
       "0                                               ISO3                                    \n",
       "1                                           03M49WLD                                    \n",
       "2                                           03M49WLD                                    \n",
       "3                                           03M49WLD                                    \n",
       "4                                           03M49WLD                                    \n",
       "\n",
       "  Unnamed: 1      Unnamed: 2     Unnamed: 3  \\\n",
       "0       Type  Country/Region  UNICEF Region   \n",
       "1     Region          Global            NaN   \n",
       "2     Region          Global            NaN   \n",
       "3     Region          Global            NaN   \n",
       "4     Region          Global            NaN   \n",
       "\n",
       "                                          Unnamed: 4             Unnamed: 5  \\\n",
       "0                                          Indicator            Data source   \n",
       "1  Estimated number of children (aged 0-17) who h...  UNAIDS 2020 estimates   \n",
       "2  Estimated number of children (aged 0-17) who h...  UNAIDS 2020 estimates   \n",
       "3  Estimated number of children (aged 0-17) who h...  UNAIDS 2020 estimates   \n",
       "4  Estimated number of children (aged 0-17) who h...  UNAIDS 2020 estimates   \n",
       "\n",
       "  Unnamed: 6   Unnamed: 7   Unnamed: 8   Unnamed: 9  \n",
       "0       Year        Value        Lower        Upper  \n",
       "1       1990  147,800,000  143,500,000  152,900,000  \n",
       "2       1991  147,900,000  143,600,000  153,000,000  \n",
       "3       1992  148,300,000  144,000,000  153,400,000  \n",
       "4       1993  148,900,000  144,600,000  154,100,000  "
      ]
     },
     "execution_count": 3,
     "metadata": {},
     "output_type": "execute_result"
    }
   ],
   "source": [
    "orphan_causes_csv.head()"
   ]
  },
  {
   "cell_type": "code",
   "execution_count": 4,
   "metadata": {},
   "outputs": [
    {
     "data": {
      "text/html": [
       "<div>\n",
       "<style scoped>\n",
       "    .dataframe tbody tr th:only-of-type {\n",
       "        vertical-align: middle;\n",
       "    }\n",
       "\n",
       "    .dataframe tbody tr th {\n",
       "        vertical-align: top;\n",
       "    }\n",
       "\n",
       "    .dataframe thead th {\n",
       "        text-align: right;\n",
       "    }\n",
       "</style>\n",
       "<table border=\"1\" class=\"dataframe\">\n",
       "  <thead>\n",
       "    <tr style=\"text-align: right;\">\n",
       "      <th></th>\n",
       "      <th>ISO3</th>\n",
       "      <th>Type</th>\n",
       "      <th>Country/Region</th>\n",
       "      <th>UNICEF Region</th>\n",
       "      <th>Indicator</th>\n",
       "      <th>Data Source</th>\n",
       "      <th>Year</th>\n",
       "      <th>Value</th>\n",
       "      <th>Lower</th>\n",
       "      <th>Upper</th>\n",
       "    </tr>\n",
       "  </thead>\n",
       "  <tbody>\n",
       "    <tr>\n",
       "      <th>0</th>\n",
       "      <td>ISO3</td>\n",
       "      <td>Type</td>\n",
       "      <td>Country/Region</td>\n",
       "      <td>UNICEF Region</td>\n",
       "      <td>Indicator</td>\n",
       "      <td>Data source</td>\n",
       "      <td>Year</td>\n",
       "      <td>Value</td>\n",
       "      <td>Lower</td>\n",
       "      <td>Upper</td>\n",
       "    </tr>\n",
       "    <tr>\n",
       "      <th>1</th>\n",
       "      <td>03M49WLD</td>\n",
       "      <td>Region</td>\n",
       "      <td>Global</td>\n",
       "      <td>NaN</td>\n",
       "      <td>Estimated number of children (aged 0-17) who h...</td>\n",
       "      <td>UNAIDS 2020 estimates</td>\n",
       "      <td>1990</td>\n",
       "      <td>147,800,000</td>\n",
       "      <td>143,500,000</td>\n",
       "      <td>152,900,000</td>\n",
       "    </tr>\n",
       "    <tr>\n",
       "      <th>2</th>\n",
       "      <td>03M49WLD</td>\n",
       "      <td>Region</td>\n",
       "      <td>Global</td>\n",
       "      <td>NaN</td>\n",
       "      <td>Estimated number of children (aged 0-17) who h...</td>\n",
       "      <td>UNAIDS 2020 estimates</td>\n",
       "      <td>1991</td>\n",
       "      <td>147,900,000</td>\n",
       "      <td>143,600,000</td>\n",
       "      <td>153,000,000</td>\n",
       "    </tr>\n",
       "    <tr>\n",
       "      <th>3</th>\n",
       "      <td>03M49WLD</td>\n",
       "      <td>Region</td>\n",
       "      <td>Global</td>\n",
       "      <td>NaN</td>\n",
       "      <td>Estimated number of children (aged 0-17) who h...</td>\n",
       "      <td>UNAIDS 2020 estimates</td>\n",
       "      <td>1992</td>\n",
       "      <td>148,300,000</td>\n",
       "      <td>144,000,000</td>\n",
       "      <td>153,400,000</td>\n",
       "    </tr>\n",
       "    <tr>\n",
       "      <th>4</th>\n",
       "      <td>03M49WLD</td>\n",
       "      <td>Region</td>\n",
       "      <td>Global</td>\n",
       "      <td>NaN</td>\n",
       "      <td>Estimated number of children (aged 0-17) who h...</td>\n",
       "      <td>UNAIDS 2020 estimates</td>\n",
       "      <td>1993</td>\n",
       "      <td>148,900,000</td>\n",
       "      <td>144,600,000</td>\n",
       "      <td>154,100,000</td>\n",
       "    </tr>\n",
       "  </tbody>\n",
       "</table>\n",
       "</div>"
      ],
      "text/plain": [
       "       ISO3    Type  Country/Region  UNICEF Region  \\\n",
       "0      ISO3    Type  Country/Region  UNICEF Region   \n",
       "1  03M49WLD  Region          Global            NaN   \n",
       "2  03M49WLD  Region          Global            NaN   \n",
       "3  03M49WLD  Region          Global            NaN   \n",
       "4  03M49WLD  Region          Global            NaN   \n",
       "\n",
       "                                           Indicator            Data Source  \\\n",
       "0                                          Indicator            Data source   \n",
       "1  Estimated number of children (aged 0-17) who h...  UNAIDS 2020 estimates   \n",
       "2  Estimated number of children (aged 0-17) who h...  UNAIDS 2020 estimates   \n",
       "3  Estimated number of children (aged 0-17) who h...  UNAIDS 2020 estimates   \n",
       "4  Estimated number of children (aged 0-17) who h...  UNAIDS 2020 estimates   \n",
       "\n",
       "   Year        Value        Lower        Upper  \n",
       "0  Year        Value        Lower        Upper  \n",
       "1  1990  147,800,000  143,500,000  152,900,000  \n",
       "2  1991  147,900,000  143,600,000  153,000,000  \n",
       "3  1992  148,300,000  144,000,000  153,400,000  \n",
       "4  1993  148,900,000  144,600,000  154,100,000  "
      ]
     },
     "execution_count": 4,
     "metadata": {},
     "output_type": "execute_result"
    }
   ],
   "source": [
    "orphan_causes_subset = orphan_causes_csv.rename(columns = {'Number of children aged 0-17 who have lost one or both parents, by cause, 1990-2019': 'ISO3',\\\n",
    "                                                              'Unnamed: 1': 'Type', 'Unnamed: 2': 'Country/Region', 'Unnamed: 3': 'UNICEF Region', 'Unnamed: 4': 'Indicator',\\\n",
    "                                                              'Unnamed: 5': 'Data Source', 'Unnamed: 6': 'Year', 'Unnamed: 7': 'Value', 'Unnamed: 8': 'Lower', 'Unnamed: 9': 'Upper'})\n",
    "orphan_causes_subset.head()"
   ]
  },
  {
   "cell_type": "code",
   "execution_count": 5,
   "metadata": {
    "scrolled": true
   },
   "outputs": [
    {
     "data": {
      "text/html": [
       "<div>\n",
       "<style scoped>\n",
       "    .dataframe tbody tr th:only-of-type {\n",
       "        vertical-align: middle;\n",
       "    }\n",
       "\n",
       "    .dataframe tbody tr th {\n",
       "        vertical-align: top;\n",
       "    }\n",
       "\n",
       "    .dataframe thead th {\n",
       "        text-align: right;\n",
       "    }\n",
       "</style>\n",
       "<table border=\"1\" class=\"dataframe\">\n",
       "  <thead>\n",
       "    <tr style=\"text-align: right;\">\n",
       "      <th></th>\n",
       "      <th>ISO3</th>\n",
       "      <th>Type</th>\n",
       "      <th>Country/Region</th>\n",
       "      <th>UNICEF Region</th>\n",
       "      <th>Indicator</th>\n",
       "      <th>Data Source</th>\n",
       "      <th>Year</th>\n",
       "      <th>Value</th>\n",
       "      <th>Lower</th>\n",
       "      <th>Upper</th>\n",
       "    </tr>\n",
       "  </thead>\n",
       "  <tbody>\n",
       "    <tr>\n",
       "      <th>1</th>\n",
       "      <td>03M49WLD</td>\n",
       "      <td>Region</td>\n",
       "      <td>Global</td>\n",
       "      <td>NaN</td>\n",
       "      <td>Estimated number of children (aged 0-17) who h...</td>\n",
       "      <td>UNAIDS 2020 estimates</td>\n",
       "      <td>1990</td>\n",
       "      <td>147,800,000</td>\n",
       "      <td>143,500,000</td>\n",
       "      <td>152,900,000</td>\n",
       "    </tr>\n",
       "    <tr>\n",
       "      <th>2</th>\n",
       "      <td>03M49WLD</td>\n",
       "      <td>Region</td>\n",
       "      <td>Global</td>\n",
       "      <td>NaN</td>\n",
       "      <td>Estimated number of children (aged 0-17) who h...</td>\n",
       "      <td>UNAIDS 2020 estimates</td>\n",
       "      <td>1991</td>\n",
       "      <td>147,900,000</td>\n",
       "      <td>143,600,000</td>\n",
       "      <td>153,000,000</td>\n",
       "    </tr>\n",
       "    <tr>\n",
       "      <th>3</th>\n",
       "      <td>03M49WLD</td>\n",
       "      <td>Region</td>\n",
       "      <td>Global</td>\n",
       "      <td>NaN</td>\n",
       "      <td>Estimated number of children (aged 0-17) who h...</td>\n",
       "      <td>UNAIDS 2020 estimates</td>\n",
       "      <td>1992</td>\n",
       "      <td>148,300,000</td>\n",
       "      <td>144,000,000</td>\n",
       "      <td>153,400,000</td>\n",
       "    </tr>\n",
       "    <tr>\n",
       "      <th>4</th>\n",
       "      <td>03M49WLD</td>\n",
       "      <td>Region</td>\n",
       "      <td>Global</td>\n",
       "      <td>NaN</td>\n",
       "      <td>Estimated number of children (aged 0-17) who h...</td>\n",
       "      <td>UNAIDS 2020 estimates</td>\n",
       "      <td>1993</td>\n",
       "      <td>148,900,000</td>\n",
       "      <td>144,600,000</td>\n",
       "      <td>154,100,000</td>\n",
       "    </tr>\n",
       "    <tr>\n",
       "      <th>5</th>\n",
       "      <td>03M49WLD</td>\n",
       "      <td>Region</td>\n",
       "      <td>Global</td>\n",
       "      <td>NaN</td>\n",
       "      <td>Estimated number of children (aged 0-17) who h...</td>\n",
       "      <td>UNAIDS 2020 estimates</td>\n",
       "      <td>1994</td>\n",
       "      <td>149,900,000</td>\n",
       "      <td>145,600,000</td>\n",
       "      <td>155,100,000</td>\n",
       "    </tr>\n",
       "  </tbody>\n",
       "</table>\n",
       "</div>"
      ],
      "text/plain": [
       "       ISO3    Type Country/Region UNICEF Region  \\\n",
       "1  03M49WLD  Region         Global           NaN   \n",
       "2  03M49WLD  Region         Global           NaN   \n",
       "3  03M49WLD  Region         Global           NaN   \n",
       "4  03M49WLD  Region         Global           NaN   \n",
       "5  03M49WLD  Region         Global           NaN   \n",
       "\n",
       "                                           Indicator            Data Source  \\\n",
       "1  Estimated number of children (aged 0-17) who h...  UNAIDS 2020 estimates   \n",
       "2  Estimated number of children (aged 0-17) who h...  UNAIDS 2020 estimates   \n",
       "3  Estimated number of children (aged 0-17) who h...  UNAIDS 2020 estimates   \n",
       "4  Estimated number of children (aged 0-17) who h...  UNAIDS 2020 estimates   \n",
       "5  Estimated number of children (aged 0-17) who h...  UNAIDS 2020 estimates   \n",
       "\n",
       "   Year        Value        Lower        Upper  \n",
       "1  1990  147,800,000  143,500,000  152,900,000  \n",
       "2  1991  147,900,000  143,600,000  153,000,000  \n",
       "3  1992  148,300,000  144,000,000  153,400,000  \n",
       "4  1993  148,900,000  144,600,000  154,100,000  \n",
       "5  1994  149,900,000  145,600,000  155,100,000  "
      ]
     },
     "execution_count": 5,
     "metadata": {},
     "output_type": "execute_result"
    }
   ],
   "source": [
    "orphan_causes_subset.drop(labels=0, axis=0, inplace=True)\n",
    "orphan_causes_subset.head()"
   ]
  },
  {
   "cell_type": "code",
   "execution_count": 6,
   "metadata": {},
   "outputs": [
    {
     "data": {
      "text/html": [
       "<div>\n",
       "<style scoped>\n",
       "    .dataframe tbody tr th:only-of-type {\n",
       "        vertical-align: middle;\n",
       "    }\n",
       "\n",
       "    .dataframe tbody tr th {\n",
       "        vertical-align: top;\n",
       "    }\n",
       "\n",
       "    .dataframe thead th {\n",
       "        text-align: right;\n",
       "    }\n",
       "</style>\n",
       "<table border=\"1\" class=\"dataframe\">\n",
       "  <thead>\n",
       "    <tr style=\"text-align: right;\">\n",
       "      <th></th>\n",
       "      <th>ISO3</th>\n",
       "      <th>Type</th>\n",
       "      <th>Country/Region</th>\n",
       "      <th>UNICEF Region</th>\n",
       "      <th>Indicator</th>\n",
       "      <th>Data Source</th>\n",
       "      <th>Year</th>\n",
       "      <th>Value</th>\n",
       "      <th>Lower</th>\n",
       "      <th>Upper</th>\n",
       "    </tr>\n",
       "  </thead>\n",
       "  <tbody>\n",
       "    <tr>\n",
       "      <th>0</th>\n",
       "      <td>03M49WLD</td>\n",
       "      <td>Region</td>\n",
       "      <td>Global</td>\n",
       "      <td>NaN</td>\n",
       "      <td>Estimated number of children (aged 0-17) who h...</td>\n",
       "      <td>UNAIDS 2020 estimates</td>\n",
       "      <td>1990</td>\n",
       "      <td>147,800,000</td>\n",
       "      <td>143,500,000</td>\n",
       "      <td>152,900,000</td>\n",
       "    </tr>\n",
       "    <tr>\n",
       "      <th>1</th>\n",
       "      <td>03M49WLD</td>\n",
       "      <td>Region</td>\n",
       "      <td>Global</td>\n",
       "      <td>NaN</td>\n",
       "      <td>Estimated number of children (aged 0-17) who h...</td>\n",
       "      <td>UNAIDS 2020 estimates</td>\n",
       "      <td>1991</td>\n",
       "      <td>147,900,000</td>\n",
       "      <td>143,600,000</td>\n",
       "      <td>153,000,000</td>\n",
       "    </tr>\n",
       "    <tr>\n",
       "      <th>2</th>\n",
       "      <td>03M49WLD</td>\n",
       "      <td>Region</td>\n",
       "      <td>Global</td>\n",
       "      <td>NaN</td>\n",
       "      <td>Estimated number of children (aged 0-17) who h...</td>\n",
       "      <td>UNAIDS 2020 estimates</td>\n",
       "      <td>1992</td>\n",
       "      <td>148,300,000</td>\n",
       "      <td>144,000,000</td>\n",
       "      <td>153,400,000</td>\n",
       "    </tr>\n",
       "    <tr>\n",
       "      <th>3</th>\n",
       "      <td>03M49WLD</td>\n",
       "      <td>Region</td>\n",
       "      <td>Global</td>\n",
       "      <td>NaN</td>\n",
       "      <td>Estimated number of children (aged 0-17) who h...</td>\n",
       "      <td>UNAIDS 2020 estimates</td>\n",
       "      <td>1993</td>\n",
       "      <td>148,900,000</td>\n",
       "      <td>144,600,000</td>\n",
       "      <td>154,100,000</td>\n",
       "    </tr>\n",
       "    <tr>\n",
       "      <th>4</th>\n",
       "      <td>03M49WLD</td>\n",
       "      <td>Region</td>\n",
       "      <td>Global</td>\n",
       "      <td>NaN</td>\n",
       "      <td>Estimated number of children (aged 0-17) who h...</td>\n",
       "      <td>UNAIDS 2020 estimates</td>\n",
       "      <td>1994</td>\n",
       "      <td>149,900,000</td>\n",
       "      <td>145,600,000</td>\n",
       "      <td>155,100,000</td>\n",
       "    </tr>\n",
       "  </tbody>\n",
       "</table>\n",
       "</div>"
      ],
      "text/plain": [
       "       ISO3    Type Country/Region UNICEF Region  \\\n",
       "0  03M49WLD  Region         Global           NaN   \n",
       "1  03M49WLD  Region         Global           NaN   \n",
       "2  03M49WLD  Region         Global           NaN   \n",
       "3  03M49WLD  Region         Global           NaN   \n",
       "4  03M49WLD  Region         Global           NaN   \n",
       "\n",
       "                                           Indicator            Data Source  \\\n",
       "0  Estimated number of children (aged 0-17) who h...  UNAIDS 2020 estimates   \n",
       "1  Estimated number of children (aged 0-17) who h...  UNAIDS 2020 estimates   \n",
       "2  Estimated number of children (aged 0-17) who h...  UNAIDS 2020 estimates   \n",
       "3  Estimated number of children (aged 0-17) who h...  UNAIDS 2020 estimates   \n",
       "4  Estimated number of children (aged 0-17) who h...  UNAIDS 2020 estimates   \n",
       "\n",
       "   Year        Value        Lower        Upper  \n",
       "0  1990  147,800,000  143,500,000  152,900,000  \n",
       "1  1991  147,900,000  143,600,000  153,000,000  \n",
       "2  1992  148,300,000  144,000,000  153,400,000  \n",
       "3  1993  148,900,000  144,600,000  154,100,000  \n",
       "4  1994  149,900,000  145,600,000  155,100,000  "
      ]
     },
     "execution_count": 6,
     "metadata": {},
     "output_type": "execute_result"
    }
   ],
   "source": [
    "orphan_causes_subset.reset_index(drop=True, inplace=True)\n",
    "orphan_causes_subset.head()"
   ]
  },
  {
   "cell_type": "code",
   "execution_count": 7,
   "metadata": {},
   "outputs": [
    {
     "data": {
      "text/plain": [
       "ISO3                0\n",
       "Type                0\n",
       "Country/Region      0\n",
       "UNICEF Region     538\n",
       "Indicator           0\n",
       "Data Source         0\n",
       "Year                0\n",
       "Value               0\n",
       "Lower             241\n",
       "Upper             240\n",
       "dtype: int64"
      ]
     },
     "execution_count": 7,
     "metadata": {},
     "output_type": "execute_result"
    }
   ],
   "source": [
    "orphan_causes_subset.isna().sum()"
   ]
  },
  {
   "cell_type": "code",
   "execution_count": 8,
   "metadata": {},
   "outputs": [
    {
     "data": {
      "text/plain": [
       "ISO3              object\n",
       "Type              object\n",
       "Country/Region    object\n",
       "UNICEF Region     object\n",
       "Indicator         object\n",
       "Data Source       object\n",
       "Year              object\n",
       "Value             object\n",
       "Lower             object\n",
       "Upper             object\n",
       "dtype: object"
      ]
     },
     "execution_count": 8,
     "metadata": {},
     "output_type": "execute_result"
    }
   ],
   "source": [
    "orphan_causes_subset.dtypes"
   ]
  },
  {
   "cell_type": "code",
   "execution_count": 9,
   "metadata": {},
   "outputs": [
    {
     "data": {
      "text/plain": [
       "<100          471\n",
       "<500          273\n",
       "<200          165\n",
       "120,000       109\n",
       "140,000        91\n",
       "             ... \n",
       "42,000,000      1\n",
       "19,200,000      1\n",
       "50,700,000      1\n",
       "5,630,000       1\n",
       "25,800,000      1\n",
       "Name: Value, Length: 847, dtype: int64"
      ]
     },
     "execution_count": 9,
     "metadata": {},
     "output_type": "execute_result"
    }
   ],
   "source": [
    "orphan_causes_subset['Value'].value_counts()"
   ]
  },
  {
   "cell_type": "code",
   "execution_count": null,
   "metadata": {},
   "outputs": [],
   "source": []
  },
  {
   "cell_type": "code",
   "execution_count": 10,
   "metadata": {},
   "outputs": [
    {
     "data": {
      "text/plain": [
       "0       147800000\n",
       "1       147900000\n",
       "2       148300000\n",
       "3       148900000\n",
       "4       149900000\n",
       "          ...    \n",
       "7613      3150000\n",
       "7614      3160000\n",
       "7615      3150000\n",
       "7616      3110000\n",
       "7617      3050000\n",
       "Name: Value, Length: 7618, dtype: int64"
      ]
     },
     "execution_count": 10,
     "metadata": {},
     "output_type": "execute_result"
    }
   ],
   "source": [
    "pd.to_numeric(orphan_causes_subset['Value'].str.replace(',', '').str.replace('<', '-'))"
   ]
  },
  {
   "cell_type": "code",
   "execution_count": 11,
   "metadata": {},
   "outputs": [
    {
     "data": {
      "text/plain": [
       "(7618, 10)"
      ]
     },
     "execution_count": 11,
     "metadata": {},
     "output_type": "execute_result"
    }
   ],
   "source": [
    "orphan_causes_subset.shape"
   ]
  },
  {
   "cell_type": "code",
   "execution_count": 12,
   "metadata": {},
   "outputs": [
    {
     "data": {
      "text/plain": [
       "array(['Estimated number of children (aged 0-17) who have lost one or both parents due all causes',\n",
       "       'Estimated number of children (aged 0-17) who have lost one or both parents due to AIDS'],\n",
       "      dtype=object)"
      ]
     },
     "execution_count": 12,
     "metadata": {},
     "output_type": "execute_result"
    }
   ],
   "source": [
    "orphan_causes_subset['Indicator'].unique()"
   ]
  },
  {
   "cell_type": "code",
   "execution_count": 13,
   "metadata": {},
   "outputs": [
    {
     "data": {
      "text/plain": [
       "<100          471\n",
       "<500          273\n",
       "<200          165\n",
       "120,000       109\n",
       "140,000        91\n",
       "             ... \n",
       "42,000,000      1\n",
       "19,200,000      1\n",
       "50,700,000      1\n",
       "5,630,000       1\n",
       "25,800,000      1\n",
       "Name: Value, Length: 847, dtype: int64"
      ]
     },
     "execution_count": 13,
     "metadata": {},
     "output_type": "execute_result"
    }
   ],
   "source": [
    "orphan_causes_subset['Value'].value_counts()"
   ]
  },
  {
   "cell_type": "code",
   "execution_count": 23,
   "metadata": {},
   "outputs": [
    {
     "data": {
      "text/plain": [
       "<100          471\n",
       "<500          273\n",
       "<200          165\n",
       "120,000       109\n",
       "140,000        91\n",
       "             ... \n",
       "42,000,000      1\n",
       "19,200,000      1\n",
       "50,700,000      1\n",
       "5,630,000       1\n",
       "25,800,000      1\n",
       "Name: Value, Length: 847, dtype: int64"
      ]
     },
     "execution_count": 23,
     "metadata": {},
     "output_type": "execute_result"
    }
   ],
   "source": [
    "orphan_causes_subset.replace('<100', '50').replace('<200', '100').replace('<300', '150').replace('<500', '250')\n",
    "orphan_causes_subset['Value'].value_counts()"
   ]
  },
  {
   "cell_type": "code",
   "execution_count": 25,
   "metadata": {
    "scrolled": true
   },
   "outputs": [
    {
     "data": {
      "text/plain": [
       "Singapore           60\n",
       "Kenya               60\n",
       "South Asia          60\n",
       "Ecuador             60\n",
       "Armenia             60\n",
       "                    ..\n",
       "Djibouti            60\n",
       "Sri Lanka           60\n",
       "Papua New Guinea    60\n",
       "Timor-Leste         60\n",
       "United States       58\n",
       "Name: Country/Region, Length: 127, dtype: int64"
      ]
     },
     "execution_count": 25,
     "metadata": {},
     "output_type": "execute_result"
    }
   ],
   "source": [
    "orphan_causes_subset['Country/Region'].value_counts()"
   ]
  },
  {
   "cell_type": "code",
   "execution_count": 29,
   "metadata": {},
   "outputs": [
    {
     "data": {
      "text/html": [
       "<div>\n",
       "<style scoped>\n",
       "    .dataframe tbody tr th:only-of-type {\n",
       "        vertical-align: middle;\n",
       "    }\n",
       "\n",
       "    .dataframe tbody tr th {\n",
       "        vertical-align: top;\n",
       "    }\n",
       "\n",
       "    .dataframe thead th {\n",
       "        text-align: right;\n",
       "    }\n",
       "</style>\n",
       "<table border=\"1\" class=\"dataframe\">\n",
       "  <thead>\n",
       "    <tr style=\"text-align: right;\">\n",
       "      <th></th>\n",
       "      <th>ISO3</th>\n",
       "      <th>Type</th>\n",
       "      <th>Country/Region</th>\n",
       "      <th>UNICEF Region</th>\n",
       "      <th>Indicator</th>\n",
       "      <th>Data Source</th>\n",
       "      <th>Year</th>\n",
       "      <th>Value</th>\n",
       "      <th>Lower</th>\n",
       "      <th>Upper</th>\n",
       "    </tr>\n",
       "  </thead>\n",
       "  <tbody>\n",
       "    <tr>\n",
       "      <th>0</th>\n",
       "      <td>03M49WLD</td>\n",
       "      <td>Region</td>\n",
       "      <td>Global</td>\n",
       "      <td>NaN</td>\n",
       "      <td>Estimated number of children (aged 0-17) who h...</td>\n",
       "      <td>UNAIDS 2020 estimates</td>\n",
       "      <td>1990</td>\n",
       "      <td>147,800,000</td>\n",
       "      <td>143,500,000</td>\n",
       "      <td>152,900,000</td>\n",
       "    </tr>\n",
       "    <tr>\n",
       "      <th>1</th>\n",
       "      <td>03M49WLD</td>\n",
       "      <td>Region</td>\n",
       "      <td>Global</td>\n",
       "      <td>NaN</td>\n",
       "      <td>Estimated number of children (aged 0-17) who h...</td>\n",
       "      <td>UNAIDS 2020 estimates</td>\n",
       "      <td>1991</td>\n",
       "      <td>147,900,000</td>\n",
       "      <td>143,600,000</td>\n",
       "      <td>153,000,000</td>\n",
       "    </tr>\n",
       "    <tr>\n",
       "      <th>2</th>\n",
       "      <td>03M49WLD</td>\n",
       "      <td>Region</td>\n",
       "      <td>Global</td>\n",
       "      <td>NaN</td>\n",
       "      <td>Estimated number of children (aged 0-17) who h...</td>\n",
       "      <td>UNAIDS 2020 estimates</td>\n",
       "      <td>1992</td>\n",
       "      <td>148,300,000</td>\n",
       "      <td>144,000,000</td>\n",
       "      <td>153,400,000</td>\n",
       "    </tr>\n",
       "    <tr>\n",
       "      <th>3</th>\n",
       "      <td>03M49WLD</td>\n",
       "      <td>Region</td>\n",
       "      <td>Global</td>\n",
       "      <td>NaN</td>\n",
       "      <td>Estimated number of children (aged 0-17) who h...</td>\n",
       "      <td>UNAIDS 2020 estimates</td>\n",
       "      <td>1993</td>\n",
       "      <td>148,900,000</td>\n",
       "      <td>144,600,000</td>\n",
       "      <td>154,100,000</td>\n",
       "    </tr>\n",
       "    <tr>\n",
       "      <th>4</th>\n",
       "      <td>03M49WLD</td>\n",
       "      <td>Region</td>\n",
       "      <td>Global</td>\n",
       "      <td>NaN</td>\n",
       "      <td>Estimated number of children (aged 0-17) who h...</td>\n",
       "      <td>UNAIDS 2020 estimates</td>\n",
       "      <td>1994</td>\n",
       "      <td>149,900,000</td>\n",
       "      <td>145,600,000</td>\n",
       "      <td>155,100,000</td>\n",
       "    </tr>\n",
       "  </tbody>\n",
       "</table>\n",
       "</div>"
      ],
      "text/plain": [
       "       ISO3    Type Country/Region UNICEF Region  \\\n",
       "0  03M49WLD  Region         Global           NaN   \n",
       "1  03M49WLD  Region         Global           NaN   \n",
       "2  03M49WLD  Region         Global           NaN   \n",
       "3  03M49WLD  Region         Global           NaN   \n",
       "4  03M49WLD  Region         Global           NaN   \n",
       "\n",
       "                                           Indicator            Data Source  \\\n",
       "0  Estimated number of children (aged 0-17) who h...  UNAIDS 2020 estimates   \n",
       "1  Estimated number of children (aged 0-17) who h...  UNAIDS 2020 estimates   \n",
       "2  Estimated number of children (aged 0-17) who h...  UNAIDS 2020 estimates   \n",
       "3  Estimated number of children (aged 0-17) who h...  UNAIDS 2020 estimates   \n",
       "4  Estimated number of children (aged 0-17) who h...  UNAIDS 2020 estimates   \n",
       "\n",
       "   Year        Value        Lower        Upper  \n",
       "0  1990  147,800,000  143,500,000  152,900,000  \n",
       "1  1991  147,900,000  143,600,000  153,000,000  \n",
       "2  1992  148,300,000  144,000,000  153,400,000  \n",
       "3  1993  148,900,000  144,600,000  154,100,000  \n",
       "4  1994  149,900,000  145,600,000  155,100,000  "
      ]
     },
     "execution_count": 29,
     "metadata": {},
     "output_type": "execute_result"
    }
   ],
   "source": [
    "orphan_global_causes = orphan_causes_subset\n",
    "orphan_global_causes.head()\n"
   ]
  },
  {
   "cell_type": "code",
   "execution_count": 30,
   "metadata": {},
   "outputs": [],
   "source": [
    "orphan_global_causes.to_csv('../data/cleaned_data/orphan_global_causes.csv')"
   ]
  }
 ],
 "metadata": {
  "kernelspec": {
   "display_name": "Python 3",
   "language": "python",
   "name": "python3"
  },
  "language_info": {
   "codemirror_mode": {
    "name": "ipython",
    "version": 3
   },
   "file_extension": ".py",
   "mimetype": "text/x-python",
   "name": "python",
   "nbconvert_exporter": "python",
   "pygments_lexer": "ipython3",
   "version": "3.8.5"
  }
 },
 "nbformat": 4,
 "nbformat_minor": 4
}
