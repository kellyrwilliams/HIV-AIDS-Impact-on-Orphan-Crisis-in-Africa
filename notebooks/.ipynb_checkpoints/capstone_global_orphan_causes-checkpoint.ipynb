{
 "cells": [
  {
   "cell_type": "code",
   "execution_count": 1,
   "metadata": {},
   "outputs": [],
   "source": [
    "import pandas as pd\n",
    "import matplotlib.pyplot as plt\n",
    "import datetime\n",
    "import numpy as np\n",
    "%matplotlib inline"
   ]
  },
  {
   "cell_type": "code",
   "execution_count": 2,
   "metadata": {},
   "outputs": [],
   "source": [
    "orphan_causes_csv = pd.read_csv('../data/Using/HIV_Orphans_2020.csv')"
   ]
  },
  {
   "cell_type": "code",
   "execution_count": 3,
   "metadata": {},
   "outputs": [
    {
     "data": {
      "text/html": [
       "<div>\n",
       "<style scoped>\n",
       "    .dataframe tbody tr th:only-of-type {\n",
       "        vertical-align: middle;\n",
       "    }\n",
       "\n",
       "    .dataframe tbody tr th {\n",
       "        vertical-align: top;\n",
       "    }\n",
       "\n",
       "    .dataframe thead th {\n",
       "        text-align: right;\n",
       "    }\n",
       "</style>\n",
       "<table border=\"1\" class=\"dataframe\">\n",
       "  <thead>\n",
       "    <tr style=\"text-align: right;\">\n",
       "      <th></th>\n",
       "      <th>Number of children aged 0-17 who have lost one or both parents, by cause, 1990-2019</th>\n",
       "      <th>Unnamed: 1</th>\n",
       "      <th>Unnamed: 2</th>\n",
       "      <th>Unnamed: 3</th>\n",
       "      <th>Unnamed: 4</th>\n",
       "      <th>Unnamed: 5</th>\n",
       "      <th>Unnamed: 6</th>\n",
       "      <th>Unnamed: 7</th>\n",
       "      <th>Unnamed: 8</th>\n",
       "      <th>Unnamed: 9</th>\n",
       "    </tr>\n",
       "  </thead>\n",
       "  <tbody>\n",
       "    <tr>\n",
       "      <th>0</th>\n",
       "      <td>ISO3</td>\n",
       "      <td>Type</td>\n",
       "      <td>Country/Region</td>\n",
       "      <td>UNICEF Region</td>\n",
       "      <td>Indicator</td>\n",
       "      <td>Data source</td>\n",
       "      <td>Year</td>\n",
       "      <td>Value</td>\n",
       "      <td>Lower</td>\n",
       "      <td>Upper</td>\n",
       "    </tr>\n",
       "    <tr>\n",
       "      <th>1</th>\n",
       "      <td>03M49WLD</td>\n",
       "      <td>Region</td>\n",
       "      <td>Global</td>\n",
       "      <td>NaN</td>\n",
       "      <td>Estimated number of children (aged 0-17) who h...</td>\n",
       "      <td>UNAIDS 2020 estimates</td>\n",
       "      <td>1990</td>\n",
       "      <td>147,800,000</td>\n",
       "      <td>143,500,000</td>\n",
       "      <td>152,900,000</td>\n",
       "    </tr>\n",
       "    <tr>\n",
       "      <th>2</th>\n",
       "      <td>03M49WLD</td>\n",
       "      <td>Region</td>\n",
       "      <td>Global</td>\n",
       "      <td>NaN</td>\n",
       "      <td>Estimated number of children (aged 0-17) who h...</td>\n",
       "      <td>UNAIDS 2020 estimates</td>\n",
       "      <td>1991</td>\n",
       "      <td>147,900,000</td>\n",
       "      <td>143,600,000</td>\n",
       "      <td>153,000,000</td>\n",
       "    </tr>\n",
       "    <tr>\n",
       "      <th>3</th>\n",
       "      <td>03M49WLD</td>\n",
       "      <td>Region</td>\n",
       "      <td>Global</td>\n",
       "      <td>NaN</td>\n",
       "      <td>Estimated number of children (aged 0-17) who h...</td>\n",
       "      <td>UNAIDS 2020 estimates</td>\n",
       "      <td>1992</td>\n",
       "      <td>148,300,000</td>\n",
       "      <td>144,000,000</td>\n",
       "      <td>153,400,000</td>\n",
       "    </tr>\n",
       "    <tr>\n",
       "      <th>4</th>\n",
       "      <td>03M49WLD</td>\n",
       "      <td>Region</td>\n",
       "      <td>Global</td>\n",
       "      <td>NaN</td>\n",
       "      <td>Estimated number of children (aged 0-17) who h...</td>\n",
       "      <td>UNAIDS 2020 estimates</td>\n",
       "      <td>1993</td>\n",
       "      <td>148,900,000</td>\n",
       "      <td>144,600,000</td>\n",
       "      <td>154,100,000</td>\n",
       "    </tr>\n",
       "  </tbody>\n",
       "</table>\n",
       "</div>"
      ],
      "text/plain": [
       "  Number of children aged 0-17 who have lost one or both parents, by cause, 1990-2019  \\\n",
       "0                                               ISO3                                    \n",
       "1                                           03M49WLD                                    \n",
       "2                                           03M49WLD                                    \n",
       "3                                           03M49WLD                                    \n",
       "4                                           03M49WLD                                    \n",
       "\n",
       "  Unnamed: 1      Unnamed: 2     Unnamed: 3  \\\n",
       "0       Type  Country/Region  UNICEF Region   \n",
       "1     Region          Global            NaN   \n",
       "2     Region          Global            NaN   \n",
       "3     Region          Global            NaN   \n",
       "4     Region          Global            NaN   \n",
       "\n",
       "                                          Unnamed: 4             Unnamed: 5  \\\n",
       "0                                          Indicator            Data source   \n",
       "1  Estimated number of children (aged 0-17) who h...  UNAIDS 2020 estimates   \n",
       "2  Estimated number of children (aged 0-17) who h...  UNAIDS 2020 estimates   \n",
       "3  Estimated number of children (aged 0-17) who h...  UNAIDS 2020 estimates   \n",
       "4  Estimated number of children (aged 0-17) who h...  UNAIDS 2020 estimates   \n",
       "\n",
       "  Unnamed: 6   Unnamed: 7   Unnamed: 8   Unnamed: 9  \n",
       "0       Year        Value        Lower        Upper  \n",
       "1       1990  147,800,000  143,500,000  152,900,000  \n",
       "2       1991  147,900,000  143,600,000  153,000,000  \n",
       "3       1992  148,300,000  144,000,000  153,400,000  \n",
       "4       1993  148,900,000  144,600,000  154,100,000  "
      ]
     },
     "execution_count": 3,
     "metadata": {},
     "output_type": "execute_result"
    }
   ],
   "source": [
    "orphan_causes_csv.head()"
   ]
  },
  {
   "cell_type": "code",
   "execution_count": 4,
   "metadata": {},
   "outputs": [
    {
     "data": {
      "text/html": [
       "<div>\n",
       "<style scoped>\n",
       "    .dataframe tbody tr th:only-of-type {\n",
       "        vertical-align: middle;\n",
       "    }\n",
       "\n",
       "    .dataframe tbody tr th {\n",
       "        vertical-align: top;\n",
       "    }\n",
       "\n",
       "    .dataframe thead th {\n",
       "        text-align: right;\n",
       "    }\n",
       "</style>\n",
       "<table border=\"1\" class=\"dataframe\">\n",
       "  <thead>\n",
       "    <tr style=\"text-align: right;\">\n",
       "      <th></th>\n",
       "      <th>ISO3</th>\n",
       "      <th>Type</th>\n",
       "      <th>Country/Region</th>\n",
       "      <th>UNICEF Region</th>\n",
       "      <th>Indicator</th>\n",
       "      <th>Data Source</th>\n",
       "      <th>Year</th>\n",
       "      <th>Value</th>\n",
       "      <th>Lower</th>\n",
       "      <th>Upper</th>\n",
       "    </tr>\n",
       "  </thead>\n",
       "  <tbody>\n",
       "    <tr>\n",
       "      <th>0</th>\n",
       "      <td>ISO3</td>\n",
       "      <td>Type</td>\n",
       "      <td>Country/Region</td>\n",
       "      <td>UNICEF Region</td>\n",
       "      <td>Indicator</td>\n",
       "      <td>Data source</td>\n",
       "      <td>Year</td>\n",
       "      <td>Value</td>\n",
       "      <td>Lower</td>\n",
       "      <td>Upper</td>\n",
       "    </tr>\n",
       "    <tr>\n",
       "      <th>1</th>\n",
       "      <td>03M49WLD</td>\n",
       "      <td>Region</td>\n",
       "      <td>Global</td>\n",
       "      <td>NaN</td>\n",
       "      <td>Estimated number of children (aged 0-17) who h...</td>\n",
       "      <td>UNAIDS 2020 estimates</td>\n",
       "      <td>1990</td>\n",
       "      <td>147,800,000</td>\n",
       "      <td>143,500,000</td>\n",
       "      <td>152,900,000</td>\n",
       "    </tr>\n",
       "    <tr>\n",
       "      <th>2</th>\n",
       "      <td>03M49WLD</td>\n",
       "      <td>Region</td>\n",
       "      <td>Global</td>\n",
       "      <td>NaN</td>\n",
       "      <td>Estimated number of children (aged 0-17) who h...</td>\n",
       "      <td>UNAIDS 2020 estimates</td>\n",
       "      <td>1991</td>\n",
       "      <td>147,900,000</td>\n",
       "      <td>143,600,000</td>\n",
       "      <td>153,000,000</td>\n",
       "    </tr>\n",
       "    <tr>\n",
       "      <th>3</th>\n",
       "      <td>03M49WLD</td>\n",
       "      <td>Region</td>\n",
       "      <td>Global</td>\n",
       "      <td>NaN</td>\n",
       "      <td>Estimated number of children (aged 0-17) who h...</td>\n",
       "      <td>UNAIDS 2020 estimates</td>\n",
       "      <td>1992</td>\n",
       "      <td>148,300,000</td>\n",
       "      <td>144,000,000</td>\n",
       "      <td>153,400,000</td>\n",
       "    </tr>\n",
       "    <tr>\n",
       "      <th>4</th>\n",
       "      <td>03M49WLD</td>\n",
       "      <td>Region</td>\n",
       "      <td>Global</td>\n",
       "      <td>NaN</td>\n",
       "      <td>Estimated number of children (aged 0-17) who h...</td>\n",
       "      <td>UNAIDS 2020 estimates</td>\n",
       "      <td>1993</td>\n",
       "      <td>148,900,000</td>\n",
       "      <td>144,600,000</td>\n",
       "      <td>154,100,000</td>\n",
       "    </tr>\n",
       "  </tbody>\n",
       "</table>\n",
       "</div>"
      ],
      "text/plain": [
       "       ISO3    Type  Country/Region  UNICEF Region  \\\n",
       "0      ISO3    Type  Country/Region  UNICEF Region   \n",
       "1  03M49WLD  Region          Global            NaN   \n",
       "2  03M49WLD  Region          Global            NaN   \n",
       "3  03M49WLD  Region          Global            NaN   \n",
       "4  03M49WLD  Region          Global            NaN   \n",
       "\n",
       "                                           Indicator            Data Source  \\\n",
       "0                                          Indicator            Data source   \n",
       "1  Estimated number of children (aged 0-17) who h...  UNAIDS 2020 estimates   \n",
       "2  Estimated number of children (aged 0-17) who h...  UNAIDS 2020 estimates   \n",
       "3  Estimated number of children (aged 0-17) who h...  UNAIDS 2020 estimates   \n",
       "4  Estimated number of children (aged 0-17) who h...  UNAIDS 2020 estimates   \n",
       "\n",
       "   Year        Value        Lower        Upper  \n",
       "0  Year        Value        Lower        Upper  \n",
       "1  1990  147,800,000  143,500,000  152,900,000  \n",
       "2  1991  147,900,000  143,600,000  153,000,000  \n",
       "3  1992  148,300,000  144,000,000  153,400,000  \n",
       "4  1993  148,900,000  144,600,000  154,100,000  "
      ]
     },
     "execution_count": 4,
     "metadata": {},
     "output_type": "execute_result"
    }
   ],
   "source": [
    "orphan_causes_subset = orphan_causes_csv.rename(columns = {'Number of children aged 0-17 who have lost one or both parents, by cause, 1990-2019': 'ISO3',\\\n",
    "                                                              'Unnamed: 1': 'Type', 'Unnamed: 2': 'Country/Region', 'Unnamed: 3': 'UNICEF Region', 'Unnamed: 4': 'Indicator',\\\n",
    "                                                              'Unnamed: 5': 'Data Source', 'Unnamed: 6': 'Year', 'Unnamed: 7': 'Value', 'Unnamed: 8': 'Lower', 'Unnamed: 9': 'Upper'})\n",
    "orphan_causes_subset.head()"
   ]
  },
  {
   "cell_type": "code",
   "execution_count": 5,
   "metadata": {
    "scrolled": true
   },
   "outputs": [
    {
     "data": {
      "text/html": [
       "<div>\n",
       "<style scoped>\n",
       "    .dataframe tbody tr th:only-of-type {\n",
       "        vertical-align: middle;\n",
       "    }\n",
       "\n",
       "    .dataframe tbody tr th {\n",
       "        vertical-align: top;\n",
       "    }\n",
       "\n",
       "    .dataframe thead th {\n",
       "        text-align: right;\n",
       "    }\n",
       "</style>\n",
       "<table border=\"1\" class=\"dataframe\">\n",
       "  <thead>\n",
       "    <tr style=\"text-align: right;\">\n",
       "      <th></th>\n",
       "      <th>ISO3</th>\n",
       "      <th>Type</th>\n",
       "      <th>Country/Region</th>\n",
       "      <th>UNICEF Region</th>\n",
       "      <th>Indicator</th>\n",
       "      <th>Data Source</th>\n",
       "      <th>Year</th>\n",
       "      <th>Value</th>\n",
       "      <th>Lower</th>\n",
       "      <th>Upper</th>\n",
       "    </tr>\n",
       "  </thead>\n",
       "  <tbody>\n",
       "    <tr>\n",
       "      <th>1</th>\n",
       "      <td>03M49WLD</td>\n",
       "      <td>Region</td>\n",
       "      <td>Global</td>\n",
       "      <td>NaN</td>\n",
       "      <td>Estimated number of children (aged 0-17) who h...</td>\n",
       "      <td>UNAIDS 2020 estimates</td>\n",
       "      <td>1990</td>\n",
       "      <td>147,800,000</td>\n",
       "      <td>143,500,000</td>\n",
       "      <td>152,900,000</td>\n",
       "    </tr>\n",
       "    <tr>\n",
       "      <th>2</th>\n",
       "      <td>03M49WLD</td>\n",
       "      <td>Region</td>\n",
       "      <td>Global</td>\n",
       "      <td>NaN</td>\n",
       "      <td>Estimated number of children (aged 0-17) who h...</td>\n",
       "      <td>UNAIDS 2020 estimates</td>\n",
       "      <td>1991</td>\n",
       "      <td>147,900,000</td>\n",
       "      <td>143,600,000</td>\n",
       "      <td>153,000,000</td>\n",
       "    </tr>\n",
       "    <tr>\n",
       "      <th>3</th>\n",
       "      <td>03M49WLD</td>\n",
       "      <td>Region</td>\n",
       "      <td>Global</td>\n",
       "      <td>NaN</td>\n",
       "      <td>Estimated number of children (aged 0-17) who h...</td>\n",
       "      <td>UNAIDS 2020 estimates</td>\n",
       "      <td>1992</td>\n",
       "      <td>148,300,000</td>\n",
       "      <td>144,000,000</td>\n",
       "      <td>153,400,000</td>\n",
       "    </tr>\n",
       "    <tr>\n",
       "      <th>4</th>\n",
       "      <td>03M49WLD</td>\n",
       "      <td>Region</td>\n",
       "      <td>Global</td>\n",
       "      <td>NaN</td>\n",
       "      <td>Estimated number of children (aged 0-17) who h...</td>\n",
       "      <td>UNAIDS 2020 estimates</td>\n",
       "      <td>1993</td>\n",
       "      <td>148,900,000</td>\n",
       "      <td>144,600,000</td>\n",
       "      <td>154,100,000</td>\n",
       "    </tr>\n",
       "    <tr>\n",
       "      <th>5</th>\n",
       "      <td>03M49WLD</td>\n",
       "      <td>Region</td>\n",
       "      <td>Global</td>\n",
       "      <td>NaN</td>\n",
       "      <td>Estimated number of children (aged 0-17) who h...</td>\n",
       "      <td>UNAIDS 2020 estimates</td>\n",
       "      <td>1994</td>\n",
       "      <td>149,900,000</td>\n",
       "      <td>145,600,000</td>\n",
       "      <td>155,100,000</td>\n",
       "    </tr>\n",
       "  </tbody>\n",
       "</table>\n",
       "</div>"
      ],
      "text/plain": [
       "       ISO3    Type Country/Region UNICEF Region  \\\n",
       "1  03M49WLD  Region         Global           NaN   \n",
       "2  03M49WLD  Region         Global           NaN   \n",
       "3  03M49WLD  Region         Global           NaN   \n",
       "4  03M49WLD  Region         Global           NaN   \n",
       "5  03M49WLD  Region         Global           NaN   \n",
       "\n",
       "                                           Indicator            Data Source  \\\n",
       "1  Estimated number of children (aged 0-17) who h...  UNAIDS 2020 estimates   \n",
       "2  Estimated number of children (aged 0-17) who h...  UNAIDS 2020 estimates   \n",
       "3  Estimated number of children (aged 0-17) who h...  UNAIDS 2020 estimates   \n",
       "4  Estimated number of children (aged 0-17) who h...  UNAIDS 2020 estimates   \n",
       "5  Estimated number of children (aged 0-17) who h...  UNAIDS 2020 estimates   \n",
       "\n",
       "   Year        Value        Lower        Upper  \n",
       "1  1990  147,800,000  143,500,000  152,900,000  \n",
       "2  1991  147,900,000  143,600,000  153,000,000  \n",
       "3  1992  148,300,000  144,000,000  153,400,000  \n",
       "4  1993  148,900,000  144,600,000  154,100,000  \n",
       "5  1994  149,900,000  145,600,000  155,100,000  "
      ]
     },
     "execution_count": 5,
     "metadata": {},
     "output_type": "execute_result"
    }
   ],
   "source": [
    "orphan_causes_subset.drop(labels=0, axis=0, inplace=True)\n",
    "orphan_causes_subset.head()"
   ]
  },
  {
   "cell_type": "code",
   "execution_count": 6,
   "metadata": {},
   "outputs": [
    {
     "data": {
      "text/html": [
       "<div>\n",
       "<style scoped>\n",
       "    .dataframe tbody tr th:only-of-type {\n",
       "        vertical-align: middle;\n",
       "    }\n",
       "\n",
       "    .dataframe tbody tr th {\n",
       "        vertical-align: top;\n",
       "    }\n",
       "\n",
       "    .dataframe thead th {\n",
       "        text-align: right;\n",
       "    }\n",
       "</style>\n",
       "<table border=\"1\" class=\"dataframe\">\n",
       "  <thead>\n",
       "    <tr style=\"text-align: right;\">\n",
       "      <th></th>\n",
       "      <th>ISO3</th>\n",
       "      <th>Type</th>\n",
       "      <th>Country/Region</th>\n",
       "      <th>UNICEF Region</th>\n",
       "      <th>Indicator</th>\n",
       "      <th>Data Source</th>\n",
       "      <th>Year</th>\n",
       "      <th>Value</th>\n",
       "      <th>Lower</th>\n",
       "      <th>Upper</th>\n",
       "    </tr>\n",
       "  </thead>\n",
       "  <tbody>\n",
       "    <tr>\n",
       "      <th>0</th>\n",
       "      <td>03M49WLD</td>\n",
       "      <td>Region</td>\n",
       "      <td>Global</td>\n",
       "      <td>NaN</td>\n",
       "      <td>Estimated number of children (aged 0-17) who h...</td>\n",
       "      <td>UNAIDS 2020 estimates</td>\n",
       "      <td>1990</td>\n",
       "      <td>147,800,000</td>\n",
       "      <td>143,500,000</td>\n",
       "      <td>152,900,000</td>\n",
       "    </tr>\n",
       "    <tr>\n",
       "      <th>1</th>\n",
       "      <td>03M49WLD</td>\n",
       "      <td>Region</td>\n",
       "      <td>Global</td>\n",
       "      <td>NaN</td>\n",
       "      <td>Estimated number of children (aged 0-17) who h...</td>\n",
       "      <td>UNAIDS 2020 estimates</td>\n",
       "      <td>1991</td>\n",
       "      <td>147,900,000</td>\n",
       "      <td>143,600,000</td>\n",
       "      <td>153,000,000</td>\n",
       "    </tr>\n",
       "    <tr>\n",
       "      <th>2</th>\n",
       "      <td>03M49WLD</td>\n",
       "      <td>Region</td>\n",
       "      <td>Global</td>\n",
       "      <td>NaN</td>\n",
       "      <td>Estimated number of children (aged 0-17) who h...</td>\n",
       "      <td>UNAIDS 2020 estimates</td>\n",
       "      <td>1992</td>\n",
       "      <td>148,300,000</td>\n",
       "      <td>144,000,000</td>\n",
       "      <td>153,400,000</td>\n",
       "    </tr>\n",
       "    <tr>\n",
       "      <th>3</th>\n",
       "      <td>03M49WLD</td>\n",
       "      <td>Region</td>\n",
       "      <td>Global</td>\n",
       "      <td>NaN</td>\n",
       "      <td>Estimated number of children (aged 0-17) who h...</td>\n",
       "      <td>UNAIDS 2020 estimates</td>\n",
       "      <td>1993</td>\n",
       "      <td>148,900,000</td>\n",
       "      <td>144,600,000</td>\n",
       "      <td>154,100,000</td>\n",
       "    </tr>\n",
       "    <tr>\n",
       "      <th>4</th>\n",
       "      <td>03M49WLD</td>\n",
       "      <td>Region</td>\n",
       "      <td>Global</td>\n",
       "      <td>NaN</td>\n",
       "      <td>Estimated number of children (aged 0-17) who h...</td>\n",
       "      <td>UNAIDS 2020 estimates</td>\n",
       "      <td>1994</td>\n",
       "      <td>149,900,000</td>\n",
       "      <td>145,600,000</td>\n",
       "      <td>155,100,000</td>\n",
       "    </tr>\n",
       "  </tbody>\n",
       "</table>\n",
       "</div>"
      ],
      "text/plain": [
       "       ISO3    Type Country/Region UNICEF Region  \\\n",
       "0  03M49WLD  Region         Global           NaN   \n",
       "1  03M49WLD  Region         Global           NaN   \n",
       "2  03M49WLD  Region         Global           NaN   \n",
       "3  03M49WLD  Region         Global           NaN   \n",
       "4  03M49WLD  Region         Global           NaN   \n",
       "\n",
       "                                           Indicator            Data Source  \\\n",
       "0  Estimated number of children (aged 0-17) who h...  UNAIDS 2020 estimates   \n",
       "1  Estimated number of children (aged 0-17) who h...  UNAIDS 2020 estimates   \n",
       "2  Estimated number of children (aged 0-17) who h...  UNAIDS 2020 estimates   \n",
       "3  Estimated number of children (aged 0-17) who h...  UNAIDS 2020 estimates   \n",
       "4  Estimated number of children (aged 0-17) who h...  UNAIDS 2020 estimates   \n",
       "\n",
       "   Year        Value        Lower        Upper  \n",
       "0  1990  147,800,000  143,500,000  152,900,000  \n",
       "1  1991  147,900,000  143,600,000  153,000,000  \n",
       "2  1992  148,300,000  144,000,000  153,400,000  \n",
       "3  1993  148,900,000  144,600,000  154,100,000  \n",
       "4  1994  149,900,000  145,600,000  155,100,000  "
      ]
     },
     "execution_count": 6,
     "metadata": {},
     "output_type": "execute_result"
    }
   ],
   "source": [
    "orphan_causes_subset.reset_index(drop=True, inplace=True)\n",
    "orphan_causes_subset.head()"
   ]
  },
  {
   "cell_type": "code",
   "execution_count": 7,
   "metadata": {},
   "outputs": [
    {
     "data": {
      "text/plain": [
       "ISO3                0\n",
       "Type                0\n",
       "Country/Region      0\n",
       "UNICEF Region     538\n",
       "Indicator           0\n",
       "Data Source         0\n",
       "Year                0\n",
       "Value               0\n",
       "Lower             241\n",
       "Upper             240\n",
       "dtype: int64"
      ]
     },
     "execution_count": 7,
     "metadata": {},
     "output_type": "execute_result"
    }
   ],
   "source": [
    "orphan_causes_subset.isna().sum()"
   ]
  },
  {
   "cell_type": "code",
   "execution_count": 18,
   "metadata": {},
   "outputs": [
    {
     "data": {
      "text/plain": [
       "ISO3              object\n",
       "Type              object\n",
       "Country/Region    object\n",
       "UNICEF Region     object\n",
       "Indicator         object\n",
       "Data Source       object\n",
       "Year              object\n",
       "Value             object\n",
       "Lower             object\n",
       "Upper             object\n",
       "dtype: object"
      ]
     },
     "execution_count": 18,
     "metadata": {},
     "output_type": "execute_result"
    }
   ],
   "source": [
    "orphan_causes_subset.dtypes"
   ]
  },
  {
   "cell_type": "code",
   "execution_count": 39,
   "metadata": {},
   "outputs": [
    {
     "data": {
      "text/plain": [
       "<100          471\n",
       "<500          273\n",
       "<200          165\n",
       "120,000       109\n",
       "140,000        91\n",
       "             ... \n",
       "1,690,000       1\n",
       "4,230,000       1\n",
       "13,200,000      1\n",
       "21,300,000      1\n",
       "26,600,000      1\n",
       "Name: Value, Length: 847, dtype: int64"
      ]
     },
     "execution_count": 39,
     "metadata": {},
     "output_type": "execute_result"
    }
   ],
   "source": [
    "orphan_causes_subset['Value'].value_counts()"
   ]
  },
  {
   "cell_type": "code",
   "execution_count": 40,
   "metadata": {},
   "outputs": [
    {
     "data": {
      "text/plain": [
       "0       147800000\n",
       "1       147900000\n",
       "2       148300000\n",
       "3       148900000\n",
       "4       149900000\n",
       "          ...    \n",
       "7613      3150000\n",
       "7614      3160000\n",
       "7615      3150000\n",
       "7616      3110000\n",
       "7617      3050000\n",
       "Name: Value, Length: 7618, dtype: int64"
      ]
     },
     "execution_count": 40,
     "metadata": {},
     "output_type": "execute_result"
    }
   ],
   "source": [
    "pd.to_numeric(orphan_causes_subset['Value'].str.replace(',', '').str.replace('<', '-'))"
   ]
  },
  {
   "cell_type": "code",
   "execution_count": 33,
   "metadata": {},
   "outputs": [
    {
     "ename": "ValueError",
     "evalue": "invalid literal for int() with base 10: '147,800,000'",
     "output_type": "error",
     "traceback": [
      "\u001b[1;31m---------------------------------------------------------------------------\u001b[0m",
      "\u001b[1;31mValueError\u001b[0m                                Traceback (most recent call last)",
      "\u001b[1;32m<ipython-input-33-f4dc0c6bcc26>\u001b[0m in \u001b[0;36m<module>\u001b[1;34m\u001b[0m\n\u001b[1;32m----> 1\u001b[1;33m \u001b[0morphan_causes_subset\u001b[0m \u001b[1;33m=\u001b[0m \u001b[0morphan_causes_subset\u001b[0m\u001b[1;33m.\u001b[0m\u001b[0mastype\u001b[0m\u001b[1;33m(\u001b[0m\u001b[0mconvert_dict\u001b[0m\u001b[1;33m)\u001b[0m\u001b[1;33m\u001b[0m\u001b[1;33m\u001b[0m\u001b[0m\n\u001b[0m\u001b[0;32m      2\u001b[0m \u001b[0mprint\u001b[0m\u001b[1;33m(\u001b[0m\u001b[0morphan_causes_subset\u001b[0m\u001b[1;33m.\u001b[0m\u001b[0mdtypes\u001b[0m\u001b[1;33m)\u001b[0m\u001b[1;33m\u001b[0m\u001b[1;33m\u001b[0m\u001b[0m\n",
      "\u001b[1;32m~\\anaconda3\\lib\\site-packages\\pandas\\core\\generic.py\u001b[0m in \u001b[0;36mastype\u001b[1;34m(self, dtype, copy, errors)\u001b[0m\n\u001b[0;32m   5529\u001b[0m                 \u001b[1;32mif\u001b[0m \u001b[0mcol_name\u001b[0m \u001b[1;32min\u001b[0m \u001b[0mdtype\u001b[0m\u001b[1;33m:\u001b[0m\u001b[1;33m\u001b[0m\u001b[1;33m\u001b[0m\u001b[0m\n\u001b[0;32m   5530\u001b[0m                     results.append(\n\u001b[1;32m-> 5531\u001b[1;33m                         \u001b[0mcol\u001b[0m\u001b[1;33m.\u001b[0m\u001b[0mastype\u001b[0m\u001b[1;33m(\u001b[0m\u001b[0mdtype\u001b[0m\u001b[1;33m=\u001b[0m\u001b[0mdtype\u001b[0m\u001b[1;33m[\u001b[0m\u001b[0mcol_name\u001b[0m\u001b[1;33m]\u001b[0m\u001b[1;33m,\u001b[0m \u001b[0mcopy\u001b[0m\u001b[1;33m=\u001b[0m\u001b[0mcopy\u001b[0m\u001b[1;33m,\u001b[0m \u001b[0merrors\u001b[0m\u001b[1;33m=\u001b[0m\u001b[0merrors\u001b[0m\u001b[1;33m)\u001b[0m\u001b[1;33m\u001b[0m\u001b[1;33m\u001b[0m\u001b[0m\n\u001b[0m\u001b[0;32m   5532\u001b[0m                     )\n\u001b[0;32m   5533\u001b[0m                 \u001b[1;32melse\u001b[0m\u001b[1;33m:\u001b[0m\u001b[1;33m\u001b[0m\u001b[1;33m\u001b[0m\u001b[0m\n",
      "\u001b[1;32m~\\anaconda3\\lib\\site-packages\\pandas\\core\\generic.py\u001b[0m in \u001b[0;36mastype\u001b[1;34m(self, dtype, copy, errors)\u001b[0m\n\u001b[0;32m   5544\u001b[0m         \u001b[1;32melse\u001b[0m\u001b[1;33m:\u001b[0m\u001b[1;33m\u001b[0m\u001b[1;33m\u001b[0m\u001b[0m\n\u001b[0;32m   5545\u001b[0m             \u001b[1;31m# else, only a single dtype is given\u001b[0m\u001b[1;33m\u001b[0m\u001b[1;33m\u001b[0m\u001b[1;33m\u001b[0m\u001b[0m\n\u001b[1;32m-> 5546\u001b[1;33m             \u001b[0mnew_data\u001b[0m \u001b[1;33m=\u001b[0m \u001b[0mself\u001b[0m\u001b[1;33m.\u001b[0m\u001b[0m_mgr\u001b[0m\u001b[1;33m.\u001b[0m\u001b[0mastype\u001b[0m\u001b[1;33m(\u001b[0m\u001b[0mdtype\u001b[0m\u001b[1;33m=\u001b[0m\u001b[0mdtype\u001b[0m\u001b[1;33m,\u001b[0m \u001b[0mcopy\u001b[0m\u001b[1;33m=\u001b[0m\u001b[0mcopy\u001b[0m\u001b[1;33m,\u001b[0m \u001b[0merrors\u001b[0m\u001b[1;33m=\u001b[0m\u001b[0merrors\u001b[0m\u001b[1;33m,\u001b[0m\u001b[1;33m)\u001b[0m\u001b[1;33m\u001b[0m\u001b[1;33m\u001b[0m\u001b[0m\n\u001b[0m\u001b[0;32m   5547\u001b[0m             \u001b[1;32mreturn\u001b[0m \u001b[0mself\u001b[0m\u001b[1;33m.\u001b[0m\u001b[0m_constructor\u001b[0m\u001b[1;33m(\u001b[0m\u001b[0mnew_data\u001b[0m\u001b[1;33m)\u001b[0m\u001b[1;33m.\u001b[0m\u001b[0m__finalize__\u001b[0m\u001b[1;33m(\u001b[0m\u001b[0mself\u001b[0m\u001b[1;33m,\u001b[0m \u001b[0mmethod\u001b[0m\u001b[1;33m=\u001b[0m\u001b[1;34m\"astype\"\u001b[0m\u001b[1;33m)\u001b[0m\u001b[1;33m\u001b[0m\u001b[1;33m\u001b[0m\u001b[0m\n\u001b[0;32m   5548\u001b[0m \u001b[1;33m\u001b[0m\u001b[0m\n",
      "\u001b[1;32m~\\anaconda3\\lib\\site-packages\\pandas\\core\\internals\\managers.py\u001b[0m in \u001b[0;36mastype\u001b[1;34m(self, dtype, copy, errors)\u001b[0m\n\u001b[0;32m    593\u001b[0m         \u001b[0mself\u001b[0m\u001b[1;33m,\u001b[0m \u001b[0mdtype\u001b[0m\u001b[1;33m,\u001b[0m \u001b[0mcopy\u001b[0m\u001b[1;33m:\u001b[0m \u001b[0mbool\u001b[0m \u001b[1;33m=\u001b[0m \u001b[1;32mFalse\u001b[0m\u001b[1;33m,\u001b[0m \u001b[0merrors\u001b[0m\u001b[1;33m:\u001b[0m \u001b[0mstr\u001b[0m \u001b[1;33m=\u001b[0m \u001b[1;34m\"raise\"\u001b[0m\u001b[1;33m\u001b[0m\u001b[1;33m\u001b[0m\u001b[0m\n\u001b[0;32m    594\u001b[0m     ) -> \"BlockManager\":\n\u001b[1;32m--> 595\u001b[1;33m         \u001b[1;32mreturn\u001b[0m \u001b[0mself\u001b[0m\u001b[1;33m.\u001b[0m\u001b[0mapply\u001b[0m\u001b[1;33m(\u001b[0m\u001b[1;34m\"astype\"\u001b[0m\u001b[1;33m,\u001b[0m \u001b[0mdtype\u001b[0m\u001b[1;33m=\u001b[0m\u001b[0mdtype\u001b[0m\u001b[1;33m,\u001b[0m \u001b[0mcopy\u001b[0m\u001b[1;33m=\u001b[0m\u001b[0mcopy\u001b[0m\u001b[1;33m,\u001b[0m \u001b[0merrors\u001b[0m\u001b[1;33m=\u001b[0m\u001b[0merrors\u001b[0m\u001b[1;33m)\u001b[0m\u001b[1;33m\u001b[0m\u001b[1;33m\u001b[0m\u001b[0m\n\u001b[0m\u001b[0;32m    596\u001b[0m \u001b[1;33m\u001b[0m\u001b[0m\n\u001b[0;32m    597\u001b[0m     def convert(\n",
      "\u001b[1;32m~\\anaconda3\\lib\\site-packages\\pandas\\core\\internals\\managers.py\u001b[0m in \u001b[0;36mapply\u001b[1;34m(self, f, align_keys, **kwargs)\u001b[0m\n\u001b[0;32m    404\u001b[0m                 \u001b[0mapplied\u001b[0m \u001b[1;33m=\u001b[0m \u001b[0mb\u001b[0m\u001b[1;33m.\u001b[0m\u001b[0mapply\u001b[0m\u001b[1;33m(\u001b[0m\u001b[0mf\u001b[0m\u001b[1;33m,\u001b[0m \u001b[1;33m**\u001b[0m\u001b[0mkwargs\u001b[0m\u001b[1;33m)\u001b[0m\u001b[1;33m\u001b[0m\u001b[1;33m\u001b[0m\u001b[0m\n\u001b[0;32m    405\u001b[0m             \u001b[1;32melse\u001b[0m\u001b[1;33m:\u001b[0m\u001b[1;33m\u001b[0m\u001b[1;33m\u001b[0m\u001b[0m\n\u001b[1;32m--> 406\u001b[1;33m                 \u001b[0mapplied\u001b[0m \u001b[1;33m=\u001b[0m \u001b[0mgetattr\u001b[0m\u001b[1;33m(\u001b[0m\u001b[0mb\u001b[0m\u001b[1;33m,\u001b[0m \u001b[0mf\u001b[0m\u001b[1;33m)\u001b[0m\u001b[1;33m(\u001b[0m\u001b[1;33m**\u001b[0m\u001b[0mkwargs\u001b[0m\u001b[1;33m)\u001b[0m\u001b[1;33m\u001b[0m\u001b[1;33m\u001b[0m\u001b[0m\n\u001b[0m\u001b[0;32m    407\u001b[0m             \u001b[0mresult_blocks\u001b[0m \u001b[1;33m=\u001b[0m \u001b[0m_extend_blocks\u001b[0m\u001b[1;33m(\u001b[0m\u001b[0mapplied\u001b[0m\u001b[1;33m,\u001b[0m \u001b[0mresult_blocks\u001b[0m\u001b[1;33m)\u001b[0m\u001b[1;33m\u001b[0m\u001b[1;33m\u001b[0m\u001b[0m\n\u001b[0;32m    408\u001b[0m \u001b[1;33m\u001b[0m\u001b[0m\n",
      "\u001b[1;32m~\\anaconda3\\lib\\site-packages\\pandas\\core\\internals\\blocks.py\u001b[0m in \u001b[0;36mastype\u001b[1;34m(self, dtype, copy, errors)\u001b[0m\n\u001b[0;32m    593\u001b[0m             \u001b[0mvals1d\u001b[0m \u001b[1;33m=\u001b[0m \u001b[0mvalues\u001b[0m\u001b[1;33m.\u001b[0m\u001b[0mravel\u001b[0m\u001b[1;33m(\u001b[0m\u001b[1;33m)\u001b[0m\u001b[1;33m\u001b[0m\u001b[1;33m\u001b[0m\u001b[0m\n\u001b[0;32m    594\u001b[0m             \u001b[1;32mtry\u001b[0m\u001b[1;33m:\u001b[0m\u001b[1;33m\u001b[0m\u001b[1;33m\u001b[0m\u001b[0m\n\u001b[1;32m--> 595\u001b[1;33m                 \u001b[0mvalues\u001b[0m \u001b[1;33m=\u001b[0m \u001b[0mastype_nansafe\u001b[0m\u001b[1;33m(\u001b[0m\u001b[0mvals1d\u001b[0m\u001b[1;33m,\u001b[0m \u001b[0mdtype\u001b[0m\u001b[1;33m,\u001b[0m \u001b[0mcopy\u001b[0m\u001b[1;33m=\u001b[0m\u001b[1;32mTrue\u001b[0m\u001b[1;33m)\u001b[0m\u001b[1;33m\u001b[0m\u001b[1;33m\u001b[0m\u001b[0m\n\u001b[0m\u001b[0;32m    596\u001b[0m             \u001b[1;32mexcept\u001b[0m \u001b[1;33m(\u001b[0m\u001b[0mValueError\u001b[0m\u001b[1;33m,\u001b[0m \u001b[0mTypeError\u001b[0m\u001b[1;33m)\u001b[0m\u001b[1;33m:\u001b[0m\u001b[1;33m\u001b[0m\u001b[1;33m\u001b[0m\u001b[0m\n\u001b[0;32m    597\u001b[0m                 \u001b[1;31m# e.g. astype_nansafe can fail on object-dtype of strings\u001b[0m\u001b[1;33m\u001b[0m\u001b[1;33m\u001b[0m\u001b[1;33m\u001b[0m\u001b[0m\n",
      "\u001b[1;32m~\\anaconda3\\lib\\site-packages\\pandas\\core\\dtypes\\cast.py\u001b[0m in \u001b[0;36mastype_nansafe\u001b[1;34m(arr, dtype, copy, skipna)\u001b[0m\n\u001b[0;32m    970\u001b[0m         \u001b[1;31m# work around NumPy brokenness, #1987\u001b[0m\u001b[1;33m\u001b[0m\u001b[1;33m\u001b[0m\u001b[1;33m\u001b[0m\u001b[0m\n\u001b[0;32m    971\u001b[0m         \u001b[1;32mif\u001b[0m \u001b[0mnp\u001b[0m\u001b[1;33m.\u001b[0m\u001b[0missubdtype\u001b[0m\u001b[1;33m(\u001b[0m\u001b[0mdtype\u001b[0m\u001b[1;33m.\u001b[0m\u001b[0mtype\u001b[0m\u001b[1;33m,\u001b[0m \u001b[0mnp\u001b[0m\u001b[1;33m.\u001b[0m\u001b[0minteger\u001b[0m\u001b[1;33m)\u001b[0m\u001b[1;33m:\u001b[0m\u001b[1;33m\u001b[0m\u001b[1;33m\u001b[0m\u001b[0m\n\u001b[1;32m--> 972\u001b[1;33m             \u001b[1;32mreturn\u001b[0m \u001b[0mlib\u001b[0m\u001b[1;33m.\u001b[0m\u001b[0mastype_intsafe\u001b[0m\u001b[1;33m(\u001b[0m\u001b[0marr\u001b[0m\u001b[1;33m.\u001b[0m\u001b[0mravel\u001b[0m\u001b[1;33m(\u001b[0m\u001b[1;33m)\u001b[0m\u001b[1;33m,\u001b[0m \u001b[0mdtype\u001b[0m\u001b[1;33m)\u001b[0m\u001b[1;33m.\u001b[0m\u001b[0mreshape\u001b[0m\u001b[1;33m(\u001b[0m\u001b[0marr\u001b[0m\u001b[1;33m.\u001b[0m\u001b[0mshape\u001b[0m\u001b[1;33m)\u001b[0m\u001b[1;33m\u001b[0m\u001b[1;33m\u001b[0m\u001b[0m\n\u001b[0m\u001b[0;32m    973\u001b[0m \u001b[1;33m\u001b[0m\u001b[0m\n\u001b[0;32m    974\u001b[0m         \u001b[1;31m# if we have a datetime/timedelta array of objects\u001b[0m\u001b[1;33m\u001b[0m\u001b[1;33m\u001b[0m\u001b[1;33m\u001b[0m\u001b[0m\n",
      "\u001b[1;32mpandas\\_libs\\lib.pyx\u001b[0m in \u001b[0;36mpandas._libs.lib.astype_intsafe\u001b[1;34m()\u001b[0m\n",
      "\u001b[1;31mValueError\u001b[0m: invalid literal for int() with base 10: '147,800,000'"
     ]
    }
   ],
   "source": [
    "orphan_causes_subset = orphan_causes_subset.astype(convert_dict)\n",
    "print(orphan_causes_subset.dtypes)"
   ]
  },
  {
   "cell_type": "code",
   "execution_count": 8,
   "metadata": {},
   "outputs": [
    {
     "data": {
      "text/plain": [
       "(7618, 10)"
      ]
     },
     "execution_count": 8,
     "metadata": {},
     "output_type": "execute_result"
    }
   ],
   "source": [
    "orphan_causes_subset.shape"
   ]
  },
  {
   "cell_type": "code",
   "execution_count": 16,
   "metadata": {},
   "outputs": [
    {
     "data": {
      "text/plain": [
       "array(['Estimated number of children (aged 0-17) who have lost one or both parents due all causes',\n",
       "       'Estimated number of children (aged 0-17) who have lost one or both parents due to AIDS'],\n",
       "      dtype=object)"
      ]
     },
     "execution_count": 16,
     "metadata": {},
     "output_type": "execute_result"
    }
   ],
   "source": [
    "orphan_causes_subset['Indicator'].unique()"
   ]
  },
  {
   "cell_type": "code",
   "execution_count": null,
   "metadata": {},
   "outputs": [],
   "source": []
  },
  {
   "cell_type": "code",
   "execution_count": null,
   "metadata": {},
   "outputs": [],
   "source": []
  },
  {
   "cell_type": "code",
   "execution_count": null,
   "metadata": {},
   "outputs": [],
   "source": []
  }
 ],
 "metadata": {
  "kernelspec": {
   "display_name": "Python 3",
   "language": "python",
   "name": "python3"
  },
  "language_info": {
   "codemirror_mode": {
    "name": "ipython",
    "version": 3
   },
   "file_extension": ".py",
   "mimetype": "text/x-python",
   "name": "python",
   "nbconvert_exporter": "python",
   "pygments_lexer": "ipython3",
   "version": "3.8.5"
  }
 },
 "nbformat": 4,
 "nbformat_minor": 4
}
